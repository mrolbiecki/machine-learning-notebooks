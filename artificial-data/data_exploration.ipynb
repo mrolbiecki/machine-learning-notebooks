{
 "cells": [
  {
   "cell_type": "code",
   "execution_count": null,
   "id": "fb9f3142",
   "metadata": {},
   "outputs": [],
   "source": [
    "import numpy as np\n",
    "import pandas as pd"
   ]
  },
  {
   "cell_type": "code",
   "execution_count": null,
   "id": "b6515a8f",
   "metadata": {},
   "outputs": [],
   "source": [
    "df = pd.read_csv('data.csv', sep=';')\n",
    "df"
   ]
  },
  {
   "cell_type": "code",
   "execution_count": 5,
   "id": "1c65a6f4",
   "metadata": {},
   "outputs": [
    {
     "name": "stdout",
     "output_type": "stream",
     "text": [
      "Dataset shape: (2000, 402)\n",
      "\n",
      "Target variable statistics:\n",
      "count    2000.000000\n",
      "mean        0.106647\n",
      "std         3.562855\n",
      "min       -12.384019\n",
      "25%        -2.310265\n",
      "50%         0.140658\n",
      "75%         2.435991\n",
      "max        11.676146\n",
      "Name: Output, dtype: float64\n",
      "\n",
      "Missing values:\n",
      "0\n",
      "\n",
      "Features shape: (2000, 400)\n",
      "Target shape: (2000,)\n",
      "Number of predictor variables: 400\n"
     ]
    }
   ],
   "source": [
    "# Data exploration\n",
    "print(\"Dataset shape:\", df.shape)\n",
    "print(\"\\nTarget variable statistics:\")\n",
    "print(df['Output'].describe())\n",
    "print(\"\\nMissing values:\")\n",
    "print(df.isnull().sum().sum())\n",
    "\n",
    "# Separate features and target\n",
    "X = df.drop(['Class', 'Output'], axis=1)  # Use all Input variables as predictors\n",
    "y = df['Output']  # Target variable\n",
    "\n",
    "print(f\"\\nFeatures shape: {X.shape}\")\n",
    "print(f\"Target shape: {y.shape}\")\n",
    "print(f\"Number of predictor variables: {X.shape[1]}\")"
   ]
  }
 ],
 "metadata": {
  "kernelspec": {
   "display_name": ".venv",
   "language": "python",
   "name": "python3"
  },
  "language_info": {
   "codemirror_mode": {
    "name": "ipython",
    "version": 3
   },
   "file_extension": ".py",
   "mimetype": "text/x-python",
   "name": "python",
   "nbconvert_exporter": "python",
   "pygments_lexer": "ipython3",
   "version": "3.13.3"
  }
 },
 "nbformat": 4,
 "nbformat_minor": 5
}

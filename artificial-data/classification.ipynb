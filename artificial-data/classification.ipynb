{
 "cells": [
  {
   "cell_type": "code",
   "execution_count": 60,
   "id": "7ad52a80",
   "metadata": {},
   "outputs": [],
   "source": [
    "import numpy as np\n",
    "import pandas as pd\n",
    "import matplotlib.pyplot as plt\n",
    "import seaborn as sns\n",
    "from sklearn.model_selection import cross_val_score, KFold, train_test_split\n",
    "from sklearn.ensemble import RandomForestClassifier\n",
    "from sklearn.metrics import classification_report, confusion_matrix, accuracy_score\n",
    "from sklearn.preprocessing import StandardScaler\n",
    "from sklearn.feature_selection import RFE\n",
    "from sklearn.pipeline import Pipeline\n",
    "\n",
    "# Load data\n",
    "df = pd.read_csv('data.csv', sep=';')\n",
    "X = df.drop(['Class', 'Output'], axis=1)\n",
    "y = df['Class']"
   ]
  },
  {
   "cell_type": "markdown",
   "id": "4e070a9b",
   "metadata": {},
   "source": [
    "### Approach\n",
    "\n",
    "I started with defining a function for model evaluation and then experimented with different preprocessing and model combos. Below is a short summary of my findings."
   ]
  },
  {
   "cell_type": "code",
   "execution_count": 65,
   "id": "56f8b3f9",
   "metadata": {},
   "outputs": [],
   "source": [
    "# Model evaluation framework\n",
    "def evaluate_model(model, X, y, cv_folds=5, model_name=\"Model\"):\n",
    "    \"\"\"Comprehensive model evaluation function\"\"\"\n",
    "    # Stratified K-Fold for balanced splits\n",
    "    kf = KFold(n_splits=cv_folds, shuffle=True, random_state=42)\n",
    "    \n",
    "    # Cross-validation scores\n",
    "    cv_scores = cross_val_score(model, X, y, cv=kf, scoring='accuracy')\n",
    "    \n",
    "    # Fit model for training accuracy\n",
    "    model.fit(X, y)\n",
    "    train_pred = model.predict(X)\n",
    "    train_accuracy = accuracy_score(y, train_pred)\n",
    "    \n",
    "    # Results\n",
    "    results = {\n",
    "        'model_name': model_name,\n",
    "        'train_accuracy': train_accuracy,\n",
    "        'cv_mean': cv_scores.mean(),\n",
    "        'cv_std': cv_scores.std(),\n",
    "        'cv_scores': cv_scores,\n",
    "        'overfitting': train_accuracy - cv_scores.mean()\n",
    "    }\n",
    "    \n",
    "    print(f\"Model: {model_name}\")\n",
    "    print(f\"Training Accuracy: {train_accuracy:.4f} ({train_accuracy*100:.2f}%)\")\n",
    "    print(f\"CV Mean Accuracy:  {cv_scores.mean():.4f} ({cv_scores.mean()*100:.2f}%)\")\n",
    "        \n",
    "    return results"
   ]
  },
  {
   "cell_type": "markdown",
   "id": "34fb471b",
   "metadata": {},
   "source": [
    "## Model Evaluation Summary\n",
    "\n",
    "I explored several approaches to improve the baseline model's performance:\n",
    "\n",
    "| Model | CV Accuracy | Improvement |\n",
    "|-------|------------|-------------|\n",
    "| Baseline Logistic Regression | 52.4% | Baseline |\n",
    "| Logistic Regression + SelectKBest | 61.1% | +8.7% |\n",
    "| SVC (RBF) + SelectKBest | 67.5% | +15.1% |\n",
    "| Random Forest | 66.1% | +13.7% |\n",
    "| Random Forest + SelectKBest | 73.6% | +21.2% |\n",
    "| Optimized Random Forest + SelectKBest | 74.9% | +22.5% |\n",
    "| Random Forest + PCA + Lasso | 65.3% | +12.9% |\n",
    "| **Random Forest + RFE** | **78.8%** | **+26.4%** |\n",
    "\n",
    "\n",
    "I got very promising results with Random Forest Classifier and Recursive Feature Elimination. I decided to stick with this approach and tune the model."
   ]
  },
  {
   "cell_type": "markdown",
   "id": "17fb5686",
   "metadata": {},
   "source": [
    "## Fine-tuning the Best Model\n",
    "\n",
    "To further improve my best model (Random Forest with RFE), I'll focus on two key optimization strategies:\n",
    "\n",
    "1. **Optimal Feature Count**: Find the ideal number of features for RFE to select\n",
    "2. **Hyperparameter Tuning**: Fine-tune the Random Forest parameters\n",
    "\n",
    "These optimizations may provide incremental improvements to already strong model.\n",
    "\n",
    "In my previous experiments, I achieved promising results for small number of features, around 20."
   ]
  },
  {
   "cell_type": "code",
   "execution_count": 62,
   "id": "f523c526",
   "metadata": {},
   "outputs": [
    {
     "name": "stdout",
     "output_type": "stream",
     "text": [
      "\n",
      "Testing RFE with 10 features...\n",
      "Model: RF + RFE (10 features)\n",
      "Training Accuracy: 1.0000 (100.00%)\n",
      "CV Mean Accuracy:  0.7950 (79.50%)\n",
      "CV Scores: ['0.8150', '0.8075', '0.7850', '0.7900', '0.7775']\n",
      "\n",
      "Testing RFE with 12 features...\n",
      "Model: RF + RFE (12 features)\n",
      "Training Accuracy: 1.0000 (100.00%)\n",
      "CV Mean Accuracy:  0.8100 (81.00%)\n",
      "CV Scores: ['0.8300', '0.8025', '0.8075', '0.8050', '0.8050']\n",
      "\n",
      "Testing RFE with 14 features...\n",
      "Model: RF + RFE (14 features)\n",
      "Training Accuracy: 1.0000 (100.00%)\n",
      "CV Mean Accuracy:  0.8145 (81.45%)\n",
      "CV Scores: ['0.8375', '0.8125', '0.7975', '0.8025', '0.8225']\n",
      "\n",
      "Testing RFE with 16 features...\n",
      "Model: RF + RFE (16 features)\n",
      "Training Accuracy: 1.0000 (100.00%)\n",
      "CV Mean Accuracy:  0.8120 (81.20%)\n",
      "CV Scores: ['0.8400', '0.8050', '0.8025', '0.8025', '0.8100']\n",
      "\n",
      "Testing RFE with 18 features...\n",
      "Model: RF + RFE (18 features)\n",
      "Training Accuracy: 1.0000 (100.00%)\n",
      "CV Mean Accuracy:  0.8130 (81.30%)\n",
      "CV Scores: ['0.8375', '0.8125', '0.7950', '0.8050', '0.8150']\n",
      "\n",
      "Testing RFE with 20 features...\n",
      "Model: RF + RFE (20 features)\n",
      "Training Accuracy: 1.0000 (100.00%)\n",
      "CV Mean Accuracy:  0.8200 (82.00%)\n",
      "CV Scores: ['0.8600', '0.8100', '0.7975', '0.8200', '0.8125']\n",
      "\n",
      "Testing RFE with 22 features...\n",
      "Model: RF + RFE (22 features)\n",
      "Training Accuracy: 1.0000 (100.00%)\n",
      "CV Mean Accuracy:  0.8095 (80.95%)\n",
      "CV Scores: ['0.8400', '0.8125', '0.7825', '0.8075', '0.8050']\n",
      "\n",
      "Testing RFE with 24 features...\n",
      "Model: RF + RFE (24 features)\n",
      "Training Accuracy: 1.0000 (100.00%)\n",
      "CV Mean Accuracy:  0.8090 (80.90%)\n",
      "CV Scores: ['0.8425', '0.8150', '0.7775', '0.8100', '0.8000']\n",
      "\n",
      "Testing RFE with 26 features...\n",
      "Model: RF + RFE (26 features)\n",
      "Training Accuracy: 1.0000 (100.00%)\n",
      "CV Mean Accuracy:  0.8070 (80.70%)\n",
      "CV Scores: ['0.8300', '0.8000', '0.7875', '0.8175', '0.8000']\n",
      "\n",
      "Testing RFE with 28 features...\n",
      "Model: RF + RFE (28 features)\n",
      "Training Accuracy: 1.0000 (100.00%)\n",
      "CV Mean Accuracy:  0.8055 (80.55%)\n",
      "CV Scores: ['0.8325', '0.8075', '0.7900', '0.8150', '0.7825']\n",
      "\n",
      "Testing RFE with 30 features...\n",
      "Model: RF + RFE (30 features)\n",
      "Training Accuracy: 1.0000 (100.00%)\n",
      "CV Mean Accuracy:  0.8055 (80.55%)\n",
      "CV Scores: ['0.8075', '0.8175', '0.7900', '0.8100', '0.8025']\n",
      "\n",
      "Best feature count: 20 with CV accuracy: 0.8200 (82.00%)\n"
     ]
    },
    {
     "data": {
      "image/png": "[encoded data removed]",
      "text/plain": [
       "<Figure size 1000x600 with 1 Axes>"
      ]
     },
     "metadata": {},
     "output_type": "display_data"
    },
    {
     "name": "stdout",
     "output_type": "stream",
     "text": [
      "\n",
      "Optimal features selected: ['Input2', 'Input38', 'Input40', 'Input41', 'Input65', 'Input74', 'Input95', 'Input101', 'Input110', 'Input137', 'Input150', 'Input206', 'Input238', 'Input240', 'Input246', 'Input256', 'Input293', 'Input308', 'Input330', 'Input396']\n"
     ]
    }
   ],
   "source": [
    "# 1. Find optimal number of features for RFE\n",
    "\n",
    "# Test a range of feature counts\n",
    "feature_range = [10, 12, 14, 16, 18, 20, 22, 24, 26, 28, 30]\n",
    "rfe_results = {}\n",
    "\n",
    "for n_features in feature_range:\n",
    "    print(f\"\\nTesting RFE with {n_features} features...\")\n",
    "    \n",
    "    # Create RFE with specified number of features\n",
    "    rfe_test = RFE(estimator=RandomForestClassifier(n_estimators=100, random_state=42), \n",
    "                  n_features_to_select=n_features, step=10, verbose=0)\n",
    "    X_rfe_test = rfe_test.fit_transform(X, y)\n",
    "    \n",
    "    # Create and evaluate model (these parameters are kind of randomly chosen, I will optimize them later)\n",
    "    rf_test = RandomForestClassifier(\n",
    "        n_estimators=200,\n",
    "        max_depth=20,\n",
    "        min_samples_split=2,\n",
    "        min_samples_leaf=1,\n",
    "        random_state=42\n",
    "    )\n",
    "    \n",
    "    # Use cross-validation for more reliable results\n",
    "    cv_results = evaluate_model(rf_test, X_rfe_test, y, model_name=f\"RF + RFE ({n_features} features)\")\n",
    "    rfe_results[n_features] = cv_results\n",
    "\n",
    "# Find best feature count\n",
    "feature_counts = list(rfe_results.keys())\n",
    "cv_means = [rfe_results[n]['cv_mean'] for n in feature_counts]\n",
    "best_feature_count = feature_counts[np.argmax(cv_means)]\n",
    "best_cv_mean = max(cv_means)\n",
    "\n",
    "print(f\"\\nBest feature count: {best_feature_count} with CV accuracy: {best_cv_mean:.4f} ({best_cv_mean*100:.2f}%)\")\n",
    "\n",
    "# Plot results\n",
    "plt.figure(figsize=(10, 6))\n",
    "plt.plot(feature_counts, [score*100 for score in cv_means], marker='o', linestyle='-')\n",
    "plt.axvline(x=best_feature_count, color='r', linestyle='--', label=f'Best: {best_feature_count} features')\n",
    "plt.xlabel('Number of Features')\n",
    "plt.ylabel('Cross-Validation Accuracy (%)')\n",
    "plt.title('RFE Feature Count Optimization')\n",
    "plt.grid(True, alpha=0.3)\n",
    "plt.legend()\n",
    "plt.show()\n",
    "\n",
    "# Use the best feature count for further optimization\n",
    "optimal_rfe = RFE(estimator=RandomForestClassifier(n_estimators=100, random_state=42), \n",
    "                  n_features_to_select=best_feature_count, step=10, verbose=0)\n",
    "X_rfe_optimal = optimal_rfe.fit_transform(X, y)\n",
    "\n",
    "# Get feature names\n",
    "optimal_feature_indices = np.where(optimal_rfe.ranking_ == 1)[0]\n",
    "optimal_feature_names = X.columns[optimal_feature_indices]\n",
    "print(f\"\\nOptimal features selected: {optimal_feature_names.tolist()}\")"
   ]
  },
  {
   "cell_type": "code",
   "execution_count": 63,
   "id": "0c7811e6",
   "metadata": {},
   "outputs": [
    {
     "name": "stdout",
     "output_type": "stream",
     "text": [
      "Fitting 5 folds for each of 288 candidates, totalling 1440 fits\n",
      "\n",
      "Best parameters: {'bootstrap': False, 'max_depth': 20, 'min_samples_leaf': 1, 'min_samples_split': 5, 'n_estimators': 100}\n",
      "Best cross-validation accuracy: 0.8270 (82.70%)\n"
     ]
    }
   ],
   "source": [
    "# 2. Hyperparameter optimization for Random Forest\n",
    "\n",
    "# Define parameter grid\n",
    "param_grid = {\n",
    "    'n_estimators': [100, 200, 300, 400],\n",
    "    'max_depth': [None, 10, 20, 30],\n",
    "    'min_samples_split': [2, 5, 10],\n",
    "    'min_samples_leaf': [1, 2, 4],\n",
    "    'bootstrap': [True, False]\n",
    "}\n",
    "\n",
    "# Create Random Forest classifier\n",
    "rf = RandomForestClassifier(random_state=42)\n",
    "\n",
    "# Set up grid search with cross-validation\n",
    "grid_search = GridSearchCV(\n",
    "    estimator=rf,\n",
    "    param_grid=param_grid,\n",
    "    cv=KFold(n_splits=5, shuffle=True, random_state=42),\n",
    "    scoring='accuracy',\n",
    "    n_jobs=-1,\n",
    "    verbose=1\n",
    ")\n",
    "\n",
    "# Fit grid search\n",
    "grid_search.fit(X_rfe_optimal, y)\n",
    "\n",
    "# Print best parameters and score\n",
    "print(f\"\\nBest parameters: {grid_search.best_params_}\")\n",
    "print(f\"Best cross-validation accuracy: {grid_search.best_score_:.4f} ({grid_search.best_score_*100:.2f}%)\")\n",
    "\n",
    "# Get best model\n",
    "best_model = grid_search.best_estimator_"
   ]
  },
  {
   "cell_type": "markdown",
   "id": "df8549af",
   "metadata": {},
   "source": [
    "The best accuracy I was able to achieve was 82,7%. Let's test this model one final time with high number of folds, to demonstrate that it is not prone to overfitting."
   ]
  },
  {
   "cell_type": "code",
   "execution_count": 66,
   "id": "3bfe3a23",
   "metadata": {},
   "outputs": [
    {
     "name": "stdout",
     "output_type": "stream",
     "text": [
      "Model: Fully Optimized RF + RFE\n",
      "Training Accuracy: 1.0000 (100.00%)\n",
      "CV Mean Accuracy:  0.8275 (82.75%)\n"
     ]
    },
    {
     "data": {
      "text/plain": [
       "{'model_name': 'Fully Optimized RF + RFE',\n",
       " 'train_accuracy': 1.0,\n",
       " 'cv_mean': np.float64(0.8275),\n",
       " 'cv_std': np.float64(0.06368869601428498),\n",
       " 'cv_scores': array([0.825, 0.875, 0.8  , 0.8  , 0.85 , 0.95 , 0.925, 0.825, 0.9  ,\n",
       "        0.8  , 0.825, 0.8  , 0.875, 0.775, 0.725, 0.875, 0.9  , 0.85 ,\n",
       "        0.875, 0.75 , 0.875, 0.775, 0.85 , 0.9  , 0.825, 0.875, 0.85 ,\n",
       "        0.775, 0.825, 0.625, 0.75 , 0.875, 0.75 , 0.725, 0.85 , 0.75 ,\n",
       "        0.875, 0.85 , 0.8  , 0.9  , 0.85 , 0.925, 0.8  , 0.775, 0.85 ,\n",
       "        0.75 , 0.825, 0.9  , 0.875, 0.725]),\n",
       " 'overfitting': np.float64(0.1725)}"
      ]
     },
     "execution_count": 66,
     "metadata": {},
     "output_type": "execute_result"
    }
   ],
   "source": [
    "# Evaluate best model\n",
    "evaluate_model(best_rf, X_rfe_optimal, y, cv_folds=50, model_name=\"Fully Optimized RF + RFE\")"
   ]
  },
  {
   "cell_type": "markdown",
   "id": "f118ea31",
   "metadata": {},
   "source": [
    "Although the difference between train and cv accuracy is high, this is normal for Random Forest. High cv mean suggests that the model generalizes the data well."
   ]
  }
 ],
 "metadata": {
  "language_info": {
   "name": "python"
  }
 },
 "nbformat": 4,
 "nbformat_minor": 5
}

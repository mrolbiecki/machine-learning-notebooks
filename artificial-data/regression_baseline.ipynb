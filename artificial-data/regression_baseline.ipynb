{
 "cells": [
  {
   "cell_type": "code",
   "execution_count": 14,
   "id": "2f047113",
   "metadata": {},
   "outputs": [],
   "source": [
    "import numpy as np\n",
    "import pandas as pd\n",
    "from sklearn.linear_model import LinearRegression\n",
    "from sklearn.model_selection import train_test_split, KFold, cross_val_score\n",
    "from sklearn.metrics import mean_squared_error, r2_score\n",
    "\n",
    "df = pd.read_csv('data.csv', sep=';')\n",
    "X = df.drop(['Class', 'Output'], axis=1)\n",
    "y = df['Output']"
   ]
  },
  {
   "cell_type": "code",
   "execution_count": 15,
   "id": "da08a36e",
   "metadata": {},
   "outputs": [
    {
     "name": "stdout",
     "output_type": "stream",
     "text": [
      "Training R² Score: 0.6080\n",
      "Training RMSE: 2.2302\n"
     ]
    }
   ],
   "source": [
    "# Build Linear Regression Model\n",
    "linear_model = LinearRegression()\n",
    "\n",
    "# Fit the model on the training data\n",
    "linear_model.fit(X, y)\n",
    "\n",
    "# Make predictions on training data\n",
    "y_pred_train = linear_model.predict(X)\n",
    "\n",
    "# Calculate training R^2 and RMSE\n",
    "train_mse = mean_squared_error(y, y_pred_train)\n",
    "train_rmse = np.sqrt(train_mse)\n",
    "train_r2 = r2_score(y, y_pred_train)\n",
    "\n",
    "print(f\"Training R² Score: {train_r2:.4f}\")\n",
    "print(f\"Training RMSE: {train_rmse:.4f}\")"
   ]
  },
  {
   "cell_type": "code",
   "execution_count": 20,
   "id": "eb42e13c",
   "metadata": {},
   "outputs": [
    {
     "name": "stdout",
     "output_type": "stream",
     "text": [
      "Performance Comparaison:\n",
      "Training R²: 0.6080, Training RMSE: 2.2302\n",
      "Mean CV R²: 0.3750, Mean CV RMSE: 2.8024\n",
      "Difference in R²: 0.2330, Difference in RMSE: -0.5722\n"
     ]
    }
   ],
   "source": [
    "\n",
    "# Use 5-fold cross-validation\n",
    "kf = KFold(n_splits=5, shuffle=True, random_state=42)\n",
    "\n",
    "# Calculate cross-validation scores for different metrics\n",
    "cv_r2_scores = cross_val_score(linear_model, X, y, cv=kf, scoring='r2')\n",
    "cv_neg_mse_scores = cross_val_score(linear_model, X, y, cv=kf, scoring='neg_mean_squared_error')\n",
    "\n",
    "# Convert negative scores to positive\n",
    "cv_mse_scores = -cv_neg_mse_scores\n",
    "cv_rmse_scores = np.sqrt(cv_mse_scores)\n",
    "\n",
    "# Calculate mean\n",
    "cv_r2_mean = cv_r2_scores.mean()\n",
    "cv_rmse_mean = cv_rmse_scores.mean()\n",
    "\n",
    "print(\"Performance Comparaison:\")\n",
    "print(f\"Training R²: {train_r2:.4f}, Training RMSE: {train_rmse:.4f}\")\n",
    "print(f\"Mean CV R²: {cv_r2_scores.mean():.4f}, Mean CV RMSE: {cv_rmse_scores.mean():.4f}\")\n",
    "print(f\"Difference in R²: {train_r2 - cv_r2_mean:.4f}, Difference in RMSE: {train_rmse - cv_rmse_mean:.4f}\")"
   ]
  },
  {
   "cell_type": "markdown",
   "id": "96a6357f",
   "metadata": {},
   "source": [
    "### Comment\n",
    "\n",
    "There are huge differences betweeen train and test R^2 and RMSE scores. It strongly suggests overfitting and model's poor capability to generalize beyond training data."
   ]
  }
 ],
 "metadata": {
  "kernelspec": {
   "display_name": ".venv",
   "language": "python",
   "name": "python3"
  },
  "language_info": {
   "codemirror_mode": {
    "name": "ipython",
    "version": 3
   },
   "file_extension": ".py",
   "mimetype": "text/x-python",
   "name": "python",
   "nbconvert_exporter": "python",
   "pygments_lexer": "ipython3",
   "version": "3.13.3"
  }
 },
 "nbformat": 4,
 "nbformat_minor": 5
}

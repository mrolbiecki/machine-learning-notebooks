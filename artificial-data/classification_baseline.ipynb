{
 "cells": [
  {
   "cell_type": "code",
   "execution_count": 14,
   "id": "3fc34a59",
   "metadata": {},
   "outputs": [],
   "source": [
    "import numpy as np\n",
    "import pandas as pd\n",
    "from sklearn.linear_model import LogisticRegression\n",
    "from sklearn.model_selection import cross_val_score, KFold\n",
    "from sklearn.metrics import classification_report, confusion_matrix, accuracy_score\n",
    "import matplotlib.pyplot as plt\n",
    "import seaborn as sns\n",
    "\n",
    "# Load data\n",
    "df = pd.read_csv('data.csv', sep=';')\n",
    "X = df.drop(['Class', 'Output'], axis=1)\n",
    "y = df['Class']"
   ]
  },
  {
   "cell_type": "code",
   "execution_count": 15,
   "id": "2cd0d295",
   "metadata": {},
   "outputs": [
    {
     "name": "stdout",
     "output_type": "stream",
     "text": [
      "Training Accuracy: 0.7100 (71.00%)\n",
      "\n",
      "Confusion Matrix (Training Data):\n",
      "[[691 296]\n",
      " [284 729]]\n"
     ]
    }
   ],
   "source": [
    "# Build Logistic Regression Model\n",
    "logistic_model = LogisticRegression(random_state=42, max_iter=1000, solver='lbfgs')\n",
    "\n",
    "# Fit the model on the training data\n",
    "logistic_model.fit(X, y)\n",
    "\n",
    "# Make predictions on training data\n",
    "y_train_pred = logistic_model.predict(X)\n",
    "y_train_pred_proba = logistic_model.predict_proba(X)[:, 1]\n",
    "\n",
    "# Calculate training accuracy\n",
    "train_accuracy = accuracy_score(y, y_train_pred)\n",
    "print(f\"Training Accuracy: {train_accuracy:.4f} ({train_accuracy*100:.2f}%)\")\n",
    "\n",
    "# Confusion Matrix\n",
    "print(\"\\nConfusion Matrix (Training Data):\")\n",
    "cm_train = confusion_matrix(y, y_train_pred)\n",
    "print(cm_train)"
   ]
  },
  {
   "cell_type": "code",
   "execution_count": 18,
   "id": "ab9afbc8",
   "metadata": {},
   "outputs": [
    {
     "name": "stdout",
     "output_type": "stream",
     "text": [
      "\n",
      "Performance Comparison:\n",
      "Training Accuracy:     0.7100\n",
      "CV Mean Accuracy:      0.5170\n",
      "Difference:            0.1930\n"
     ]
    }
   ],
   "source": [
    "kf = KFold(n_splits=5, shuffle=True, random_state=42)\n",
    "\n",
    "# Perform cross-validation\n",
    "cv_scores = cross_val_score(logistic_model, X, y, cv=kf, scoring='accuracy')\n",
    "cv_scores_mean = cv_scores.mean()\n",
    "\n",
    "# Compare training vs cross-validation performance\n",
    "print(f\"\\nPerformance Comparison:\")\n",
    "print(f\"Training Accuracy:     {train_accuracy:.4f}\")\n",
    "print(f\"CV Mean Accuracy:      {cv_scores_mean:.4f}\")\n",
    "print(f\"Difference:            {train_accuracy - cv_scores.mean():.4f}\")"
   ]
  },
  {
   "cell_type": "markdown",
   "id": "71e328ec",
   "metadata": {},
   "source": [
    "### Comment\n",
    "\n",
    "Just like in linear regression, huge differences betweeen train and test accuracy suggest overfitting and model's poor capability to generalize beyond training data."
   ]
  }
 ],
 "metadata": {
  "kernelspec": {
   "display_name": ".venv",
   "language": "python",
   "name": "python3"
  },
  "language_info": {
   "codemirror_mode": {
    "name": "ipython",
    "version": 3
   },
   "file_extension": ".py",
   "mimetype": "text/x-python",
   "name": "python",
   "nbconvert_exporter": "python",
   "pygments_lexer": "ipython3",
   "version": "3.13.3"
  }
 },
 "nbformat": 4,
 "nbformat_minor": 5
}

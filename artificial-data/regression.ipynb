{
 "cells": [
  {
   "cell_type": "markdown",
   "id": "c07497b5",
   "metadata": {},
   "source": [
    "# Regression Model Summary\n",
    "\n",
    "This notebook provides a summary of our regression analysis for predicting the 'Output' variable in the artificial dataset.\n",
    "\n",
    "## Project Overview\n",
    "We explored several regression models and preprocessing techniques to improve prediction performance beyond the baseline. The key focus was on feature selection, dimensionality reduction, and different regression algorithms."
   ]
  },
  {
   "cell_type": "code",
   "execution_count": 8,
   "id": "8fbbc343",
   "metadata": {},
   "outputs": [
    {
     "name": "stdout",
     "output_type": "stream",
     "text": [
      "Dataset shape: (2000, 402)\n",
      "Number of features: 400\n"
     ]
    }
   ],
   "source": [
    "# Import required libraries\n",
    "import numpy as np\n",
    "import pandas as pd\n",
    "import matplotlib.pyplot as plt\n",
    "import seaborn as sns\n",
    "from sklearn.linear_model import LinearRegression, Ridge, Lasso\n",
    "from sklearn.ensemble import RandomForestRegressor\n",
    "from sklearn.feature_selection import SelectKBest, f_regression, RFE\n",
    "from sklearn.decomposition import PCA\n",
    "from sklearn.model_selection import train_test_split, KFold, cross_val_score\n",
    "from sklearn.metrics import mean_squared_error, r2_score\n",
    "from sklearn.pipeline import Pipeline\n",
    "\n",
    "# Load the dataset\n",
    "df = pd.read_csv('data.csv', sep=';')\n",
    "X = df.drop(['Class', 'Output'], axis=1)\n",
    "y = df['Output']\n",
    "\n",
    "print(f\"Dataset shape: {df.shape}\")\n",
    "print(f\"Number of features: {X.shape[1]}\")"
   ]
  },
  {
   "cell_type": "markdown",
   "id": "c7820cea",
   "metadata": {},
   "source": [
    "## Model Evaluation Results\n",
    "\n",
    "We tested various regression models with different preprocessing techniques. Here are the results sorted by cross-validation R² score (higher is better):\n",
    "\n",
    "| Model | CV R² | CV RMSE |\n",
    "|-------|-------|---------|\n",
    "| Lasso(alpha=0.1) | 0.4861 | 2.5445 |\n",
    "| LinearRegression_RFE(n=20) | 0.4859 | 2.5433 |\n",
    "| LinearRegression_RFE(n=30) | 0.4708 | 2.5799 |\n",
    "| LinearRegression_SelectKBest(k=30) | 0.4635 | 2.6003 |\n",
    "| LinearRegression_SelectKBest(k=50) | 0.4487 | 2.6335 |\n",
    "| LinearRegression_SelectKBest(k=20) | 0.4396 | 2.6570 |\n",
    "| Ridge(alpha=100.0)_SelectKBest(k=20) | 0.4395 | 2.6574 |\n",
    "| Ridge(alpha=100.0) | 0.3979 | 2.7509 |\n",
    "| LinearRegression_SelectKBest(k=10) | 0.3760 | 2.8051 |\n",
    "| RandomForestRegressor_SelectKBest(k=20) | 0.3549 | 2.8531 |\n",
    "| LinearRegression_PCA(n=50) | 0.2842 | 3.0068 |\n",
    "| LinearRegression_PCA(n=30) | 0.2777 | 3.0076 |\n",
    "| LinearRegression_PCA(n=20) | 0.2736 | 3.0283 |\n",
    "| RandomForestRegressor | 0.2719 | 3.0314 |\n",
    "| **Baseline Linear Regression** | **0.3750** | **2.8024** |\n",
    "\n",
    "The best model was **Lasso Regression with alpha=0.1**, achieving a cross-validation R² of 0.4861, which represents an improvement of 0.1111 (11.11 percentage points) over the baseline model.\n",
    "\n",
    "## Key Findings\n",
    "\n",
    "1. **Feature Importance**: Not all 400 features were equally important for predicting the output variable. Feature selection significantly improved model performance.\n",
    "\n",
    "2. **Best Preprocessing**: Recursive Feature Elimination (RFE) and SelectKBest feature selection both performed well, outperforming PCA for this dataset.\n",
    "\n",
    "3. **Best Models**: Lasso Regression and Linear Regression with RFE provided the best performance, showing that regularization and feature selection are crucial for this dataset.\n",
    "\n",
    "4. **Worst Preprocessing**: PCA performed poorly compared to direct feature selection methods, suggesting that maintaining the original feature space is important for this problem.\n",
    "\n",
    "5. **Improvement over Baseline**: Our best model showed a substantial improvement over the baseline model with:\n",
    "   - Higher cross-validation R² (+0.1111)\n",
    "   - Lower RMSE (-0.2579)"
   ]
  },
  {
   "cell_type": "code",
   "execution_count": 20,
   "id": "80b0ccc7",
   "metadata": {},
   "outputs": [],
   "source": [
    "# Define evaluation function\n",
    "def evaluate_model(model, X, y):\n",
    "    \"\"\"Evaluate model with training metrics and cross-validation\"\"\"\n",
    "    # 5-fold cross-validation\n",
    "    kf = KFold(n_splits=5, shuffle=True, random_state=42)\n",
    "    \n",
    "    # Get training metrics\n",
    "    model.fit(X, y)\n",
    "    y_pred_train = model.predict(X)\n",
    "    train_mse = mean_squared_error(y, y_pred_train)\n",
    "    train_rmse = np.sqrt(train_mse)\n",
    "    train_r2 = r2_score(y, y_pred_train)\n",
    "    \n",
    "    # Cross-validation scores\n",
    "    cv_r2_scores = cross_val_score(model, X, y, cv=kf, scoring='r2')\n",
    "    cv_neg_mse_scores = cross_val_score(model, X, y, cv=kf, scoring='neg_mean_squared_error')\n",
    "    \n",
    "    # Convert negative scores to positive\n",
    "    cv_mse_scores = -cv_neg_mse_scores\n",
    "    cv_rmse_scores = np.sqrt(cv_mse_scores)\n",
    "    \n",
    "    # Calculate mean\n",
    "    cv_r2_mean = cv_r2_scores.mean()\n",
    "    cv_rmse_mean = cv_rmse_scores.mean()\n",
    "    \n",
    "    print(f\"Training R²: {train_r2:.4f}, Training RMSE: {train_rmse:.4f}\")\n",
    "    print(f\"Mean CV R²: {cv_r2_mean:.4f}, Mean CV RMSE: {cv_rmse_mean:.4f}\")\n",
    "    \n",
    "    return {\n",
    "        'train_r2': train_r2,\n",
    "        'train_rmse': train_rmse,\n",
    "        'cv_r2': cv_r2_mean,\n",
    "        'cv_rmse': cv_rmse_mean\n",
    "    }"
   ]
  },
  {
   "cell_type": "markdown",
   "id": "81c548e3",
   "metadata": {},
   "source": [
    "### Best model tuning\n",
    "\n",
    "Based on these findings, I chose Lasso Regressor and tried to further improve it to achieve $R^2 > 0.5$.\n",
    "\n",
    "\n",
    "I tried reducing the number of features using Lasso, adding some polynomial features and finding the best $\\alpha$ parameter. By combining these methods in different ways and order I achieved different results, but I noticed that adding polynomial features didn't seem to affect final results meaningfully, so I decided to not include them in the final model.\n"
   ]
  },
  {
   "cell_type": "code",
   "execution_count": 21,
   "id": "24e1afee",
   "metadata": {},
   "outputs": [
    {
     "name": "stdout",
     "output_type": "stream",
     "text": [
      "Original feature count: 400\n",
      "Selected feature count: 48\n",
      "Training R²: 0.5145, Training RMSE: 2.4818\n",
      "Mean CV R²: 0.4904, Mean CV RMSE: 2.5337\n"
     ]
    }
   ],
   "source": [
    "# Set base alpha value for our experiments\n",
    "base_alpha = 0.1\n",
    "\n",
    "# Use Lasso to select features\n",
    "feature_selector = Lasso(alpha=base_alpha, max_iter=10000)\n",
    "feature_selector.fit(X, y)\n",
    "\n",
    "# Get non-zero coefficients\n",
    "coef_df = pd.DataFrame({\n",
    "    'Feature': X.columns,\n",
    "    'Coefficient': feature_selector.coef_\n",
    "})\n",
    "\n",
    "# Sort by absolute coefficient values\n",
    "coef_df['Abs_Coefficient'] = np.abs(coef_df['Coefficient'])\n",
    "coef_df = coef_df.sort_values('Abs_Coefficient', ascending=False)\n",
    "\n",
    "# Filter features with non-zero coefficients\n",
    "non_zero_coef = coef_df[coef_df['Coefficient'] != 0].copy()\n",
    "\n",
    "# Create dataset with selected features only\n",
    "selected_features = non_zero_coef['Feature'].tolist()\n",
    "X_lasso_selected = X[selected_features]\n",
    "\n",
    "print(f\"Original feature count: {X.shape[1]}\")\n",
    "print(f\"Selected feature count: {X_lasso_selected.shape[1]}\")\n",
    "\n",
    "# Evaluate base Lasso with selected features\n",
    "lasso_base = Lasso(alpha=base_alpha, max_iter=10000)\n",
    "lasso_results = evaluate_model(lasso_base, X_lasso_selected, y)"
   ]
  },
  {
   "cell_type": "code",
   "execution_count": null,
   "id": "a5afc532",
   "metadata": {},
   "outputs": [
    {
     "name": "stdout",
     "output_type": "stream",
     "text": [
      "\n",
      "Testing Lasso with alpha=0.001\n",
      "Training R²: 0.5496, Training RMSE: 2.3906\n",
      "Mean CV R²: 0.5184, Mean CV RMSE: 2.4610\n",
      "\n",
      "Testing Lasso with alpha=0.002\n",
      "Training R²: 0.5496, Training RMSE: 2.3906\n",
      "Mean CV R²: 0.5184, Mean CV RMSE: 2.4609\n",
      "\n",
      "Testing Lasso with alpha=0.003\n",
      "Training R²: 0.5495, Training RMSE: 2.3906\n",
      "Mean CV R²: 0.5184, Mean CV RMSE: 2.4609\n",
      "\n",
      "Testing Lasso with alpha=0.004\n",
      "Training R²: 0.5495, Training RMSE: 2.3907\n",
      "Mean CV R²: 0.5184, Mean CV RMSE: 2.4609\n",
      "\n",
      "Testing Lasso with alpha=0.005\n",
      "Training R²: 0.5495, Training RMSE: 2.3908\n",
      "Mean CV R²: 0.5184, Mean CV RMSE: 2.4609\n",
      "\n",
      "Testing Lasso with alpha=0.01\n",
      "Training R²: 0.5492, Training RMSE: 2.3915\n",
      "Mean CV R²: 0.5182, Mean CV RMSE: 2.4615\n",
      "\n",
      "Testing Lasso with alpha=0.05\n",
      "Training R²: 0.5408, Training RMSE: 2.4137\n",
      "Mean CV R²: 0.5096, Mean CV RMSE: 2.4845\n",
      "\n",
      "Testing Lasso with alpha=0.1\n",
      "Training R²: 0.5145, Training RMSE: 2.4818\n",
      "Mean CV R²: 0.4904, Mean CV RMSE: 2.5337\n",
      "\n",
      "Testing Lasso with alpha=0.15\n",
      "Training R²: 0.4921, Training RMSE: 2.5384\n",
      "Mean CV R²: 0.4746, Mean CV RMSE: 2.5735\n",
      "\n",
      "Testing Lasso with alpha=0.2\n",
      "Training R²: 0.4688, Training RMSE: 2.5961\n",
      "Mean CV R²: 0.4520, Mean CV RMSE: 2.6287\n",
      "\n",
      "Testing Lasso with alpha=0.3\n",
      "Training R²: 0.4113, Training RMSE: 2.7330\n",
      "Mean CV R²: 0.3954, Mean CV RMSE: 2.7620\n",
      "\n",
      "Best alpha: 0.004 with CV R²: 0.5184\n"
     ]
    },
    {
     "data": {
      "image/png": "[encoded data removed]",
      "text/plain": [
       "<Figure size 1000x600 with 1 Axes>"
      ]
     },
     "metadata": {},
     "output_type": "display_data"
    },
    {
     "name": "stdout",
     "output_type": "stream",
     "text": [
      "Training R²: 0.5495, Training RMSE: 2.3907\n",
      "Mean CV R²: 0.5184, Mean CV RMSE: 2.4609\n"
     ]
    }
   ],
   "source": [
    "# Define a range of alpha values to test\n",
    "alphas = [0.001, 0.002, 0.003, 0.004, 0.005, 0.006, 0.007, 0.008, 0.009, 0.01, 0.05, 0.1, 0.15, 0.2, 0.3]\n",
    "\n",
    "# Create a dictionary to store results\n",
    "alpha_results = {}\n",
    "\n",
    "# Test each alpha value\n",
    "for alpha in alphas:\n",
    "    lasso_model = Lasso(alpha=alpha, max_iter=10000)\n",
    "    print(f\"\\nTesting Lasso with alpha={alpha}\")\n",
    "    results = evaluate_model(lasso_model, X_lasso_selected, y)\n",
    "    alpha_results[alpha] = results['cv_r2']\n",
    "\n",
    "# Find the best alpha\n",
    "best_alpha = max(alpha_results, key=alpha_results.get)\n",
    "best_score = alpha_results[best_alpha]\n",
    "\n",
    "print(f\"\\nBest alpha: {best_alpha} with CV R²: {best_score:.4f}\")\n",
    "\n",
    "# Plot alpha vs R²\n",
    "plt.figure(figsize=(10, 6))\n",
    "plt.semilogx(list(alpha_results.keys()), list(alpha_results.values()), marker='o')\n",
    "plt.axvline(x=best_alpha, color='r', linestyle='--', label=f'Best alpha: {best_alpha}')\n",
    "plt.xlabel('Alpha (log scale)')\n",
    "plt.ylabel('Cross-Validation R²')\n",
    "plt.title('Lasso Alpha Parameter Tuning')\n",
    "plt.grid(True, alpha=0.3)\n",
    "plt.legend()\n",
    "plt.show()\n",
    "\n",
    "# Save the best Lasso model\n",
    "best_lasso = Lasso(alpha=best_alpha, max_iter=10000)\n",
    "best_lasso_results = evaluate_model(best_lasso, X_lasso_selected, y)"
   ]
  },
  {
   "cell_type": "code",
   "execution_count": null,
   "id": "7cf5106d",
   "metadata": {},
   "outputs": [],
   "source": []
  }
 ],
 "metadata": {
  "kernelspec": {
   "display_name": ".venv",
   "language": "python",
   "name": "python3"
  },
  "language_info": {
   "codemirror_mode": {
    "name": "ipython",
    "version": 3
   },
   "file_extension": ".py",
   "mimetype": "text/x-python",
   "name": "python",
   "nbconvert_exporter": "python",
   "pygments_lexer": "ipython3",
   "version": "3.13.3"
  }
 },
 "nbformat": 4,
 "nbformat_minor": 5
}
